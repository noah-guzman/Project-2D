{
 "cells": [
  {
   "cell_type": "markdown",
   "id": "5e0e8401",
   "metadata": {},
   "source": [
    "# Project 2 - Noah Guzman"
   ]
  },
  {
   "cell_type": "markdown",
   "id": "2ec0ac12",
   "metadata": {},
   "source": [
    "### Scientific Question: Which mutations on the SCN1A, sodium voltage gated channel alpha subunit, human gene are most common and responsible for altering proteins leading to epilepsy?"
   ]
  },
  {
   "cell_type": "markdown",
   "id": "96737ea0",
   "metadata": {},
   "source": [
    "SCN1A, sodium voltage-gated channel alpha subunit 1, is the gene of interest in my project. Voltage dependent sodium channels are responsible for regulating the sodium exchange between intracellular and extracellular spaces. This is crucial for the generation and transmission of action potentials within neurons or muscle cells. This specific gene encodes the alpha subunit that has four homologous domains each with various transmembrane regions. Variants of the alleles within the gene have been assosiated with epilepsy, specifically ferbile seizures and epileptic encephalopathy. \n",
    "\n",
    "Due to its associantion with epilepsy, many researchers have looked into the gene to try to understand more about its connection. The data is sourced from NCBI (https://www.ncbi.nlm.nih.gov/gene/6323). "
   ]
  },
  {
   "cell_type": "markdown",
   "id": "fbb6ed8a",
   "metadata": {},
   "source": [
    "### Scientific Hypothesis: If there are common selective mutations within the SCN1A gene found leading to consequences within proteins, then these mutations could be lead to future diagnoses of epilepsy."
   ]
  },
  {
   "cell_type": "markdown",
   "id": "2d129d31",
   "metadata": {},
   "source": [
    "The analyses that were done for this project were pairwise sequence alignment, protein expresiion analysis. As for the plotting methods, I chose to use PCA and hierarchial clustering. Pairwise sequence alignment is used for identifying regions of similarity whether that be in a protein or nucleic acid. As for protein expression analysis, this is a method used for the understanding of how some genes or proteins are transcribed to develop functional products. Principal Component Analysis, or PCA is a dimensionality reduction method often used to reduce the size of large data sets. With hierarchical clustering, this plotting method is used to group similar objects into clusters and can show distinction between clusters, this is often used to show where certain parts of a gene is commonly shown up or highlighted. The data was downloaded from NCBI (https://www.ncbi.nlm.nih.gov/gene/6323)."
   ]
  },
  {
   "cell_type": "markdown",
   "id": "e9ccd74c",
   "metadata": {},
   "source": [
    "### Loading in Packages\n",
    "\n",
    "- Pysam: Pysam is a module within python that allows users to easily read and alter mapped sequence data. Often this sequence data is stored in SAM or BAM files. Pysam is also used as a lightweight wrapper of htslin C-API. Using this you would want to create an alignment file object and then open the file and can read the mapping of the file. Here it is used for the pairwise sequence alignment. (https://pysam.readthedocs.io/en/latest/api.html#:~:text=Pysam%20is%20a%20python%20module,pysam%20followed%20by%20the%20API.)\n",
    "\n",
    "- Matplotlib: MAtplotlib is a way to create various visuals within python. Some of these visuals could be interactive and possibly even animated. WIth matplotlib, one is able to create plots in graphs, interactive figures with the ability to zoom in, export to many file formats, amd can even allows customizable visual styles. Within the graphs created, one can alter the plot with labels, add different lines, and even change the colors. Here matplotlib is used with hierarchical clustering. (https://www.google.com/search?q=what+does+matplotlib+do+in+python&rlz=1C5CHFA_enUS797US797&oq=what+does+matplot&aqs=chrome.2.0i512j69i57j0i512l8.5414j0j4&sourceid=chrome&ie=UTF-8). \n",
    "\n",
    "- Numpy: Numpy is an open source library which spans across science and engineering uses within python. It is the fodation for working with numerical data in python. Numpy is used from beginner coders to high level researchers who use coding in everyday work. WIthin numpy, there is a multidimensional array and matrix data structures which allow users to work more efficiently with their numerical data. Here numpy is used in a multitude of ways to arrange my data (https://numpy.org/doc/stable/user/absolute_beginners.html#:~:text=NumPy%20can%20be%20used%20to,on%20these%20arrays%20and%20matrices.)\n",
    "\n",
    "- Plotly: Plotly is another python library which allows users to create various visuals. Most of the visuals created with plotly are charts that can be used with statistics, geographics, scientific, and even 3D visuals. This proves to be useful with many who wish to edit desktop sites with non web contexts, allowing for more uniqe visuals. Here it was used for my PCA Plot (https://plotly.com/python/getting-started/#:~:text=The%20plotly%20Python%20library%20is,3%2Ddimensional%20use%2Dcases.)"
   ]
  },
  {
   "cell_type": "markdown",
   "id": "19a62c1f",
   "metadata": {},
   "source": [
    "Pairwise Sequence Alignment"
   ]
  },
  {
   "cell_type": "code",
   "execution_count": 2,
   "id": "c45a0c15",
   "metadata": {},
   "outputs": [],
   "source": [
    "import pandas as pd"
   ]
  },
  {
   "cell_type": "code",
   "execution_count": 3,
   "id": "c2f54519",
   "metadata": {},
   "outputs": [],
   "source": [
    "from Bio import pairwise2\n",
    "from Bio.Seq import Seq\n",
    "from Bio.pairwise2 import format_alignment"
   ]
  },
  {
   "cell_type": "code",
   "execution_count": 5,
   "id": "52b3b971",
   "metadata": {},
   "outputs": [
    {
     "name": "stdout",
     "output_type": "stream",
     "text": [
      "    gene_id gene_symbol                                   description  \\\n",
      "0      6323       SCN1A  sodium voltage-gated channel alpha subunit 1   \n",
      "1      6323       SCN1A  sodium voltage-gated channel alpha subunit 1   \n",
      "2      6323       SCN1A  sodium voltage-gated channel alpha subunit 1   \n",
      "3      6323       SCN1A  sodium voltage-gated channel alpha subunit 1   \n",
      "4      6323       SCN1A  sodium voltage-gated channel alpha subunit 1   \n",
      "5      6323       SCN1A  sodium voltage-gated channel alpha subunit 1   \n",
      "6      6323       SCN1A  sodium voltage-gated channel alpha subunit 1   \n",
      "7      6323       SCN1A  sodium voltage-gated channel alpha subunit 1   \n",
      "8      6323       SCN1A  sodium voltage-gated channel alpha subunit 1   \n",
      "9      6323       SCN1A  sodium voltage-gated channel alpha subunit 1   \n",
      "10     6323       SCN1A  sodium voltage-gated channel alpha subunit 1   \n",
      "11     6323       SCN1A  sodium voltage-gated channel alpha subunit 1   \n",
      "12     6323       SCN1A  sodium voltage-gated channel alpha subunit 1   \n",
      "13     6323       SCN1A  sodium voltage-gated channel alpha subunit 1   \n",
      "14     6323       SCN1A  sodium voltage-gated channel alpha subunit 1   \n",
      "15     6323       SCN1A  sodium voltage-gated channel alpha subunit 1   \n",
      "16     6323       SCN1A  sodium voltage-gated channel alpha subunit 1   \n",
      "17     6323       SCN1A  sodium voltage-gated channel alpha subunit 1   \n",
      "\n",
      "   scientific_name common_name  tax_id  \\\n",
      "0     Homo sapiens       human    9606   \n",
      "1     Homo sapiens       human    9606   \n",
      "2     Homo sapiens       human    9606   \n",
      "3     Homo sapiens       human    9606   \n",
      "4     Homo sapiens       human    9606   \n",
      "5     Homo sapiens       human    9606   \n",
      "6     Homo sapiens       human    9606   \n",
      "7     Homo sapiens       human    9606   \n",
      "8     Homo sapiens       human    9606   \n",
      "9     Homo sapiens       human    9606   \n",
      "10    Homo sapiens       human    9606   \n",
      "11    Homo sapiens       human    9606   \n",
      "12    Homo sapiens       human    9606   \n",
      "13    Homo sapiens       human    9606   \n",
      "14    Homo sapiens       human    9606   \n",
      "15    Homo sapiens       human    9606   \n",
      "16    Homo sapiens       human    9606   \n",
      "17    Homo sapiens       human    9606   \n",
      "\n",
      "                                        genomic_range orientation location  \\\n",
      "0   NC_000002.12:165984641-166149161;NC_060926.1:1...         -;-    chr 2   \n",
      "1   NC_000002.12:165984641-166149161;NC_060926.1:1...         -;-    chr 2   \n",
      "2   NC_000002.12:165984641-166149161;NC_060926.1:1...         -;-    chr 2   \n",
      "3   NC_000002.12:165984641-166149161;NC_060926.1:1...         -;-    chr 2   \n",
      "4   NC_000002.12:165984641-166149161;NC_060926.1:1...         -;-    chr 2   \n",
      "5   NC_000002.12:165984641-166149161;NC_060926.1:1...         -;-    chr 2   \n",
      "6   NC_000002.12:165984641-166149161;NC_060926.1:1...         -;-    chr 2   \n",
      "7   NC_000002.12:165984641-166149161;NC_060926.1:1...         -;-    chr 2   \n",
      "8   NC_000002.12:165984641-166149161;NC_060926.1:1...         -;-    chr 2   \n",
      "9   NC_000002.12:165984641-166149161;NC_060926.1:1...         -;-    chr 2   \n",
      "10  NC_000002.12:165984641-166149161;NC_060926.1:1...         -;-    chr 2   \n",
      "11  NC_000002.12:165984641-166149161;NC_060926.1:1...         -;-    chr 2   \n",
      "12  NC_000002.12:165984641-166149161;NC_060926.1:1...         -;-    chr 2   \n",
      "13  NC_000002.12:165984641-166149161;NC_060926.1:1...         -;-    chr 2   \n",
      "14  NC_000002.12:165984641-166149161;NC_060926.1:1...         -;-    chr 2   \n",
      "15  NC_000002.12:165984641-166149161;NC_060926.1:1...         -;-    chr 2   \n",
      "16  NC_000002.12:165984641-166149161;NC_060926.1:1...         -;-    chr 2   \n",
      "17  NC_000002.12:165984641-166149161;NC_060926.1:1...         -;-    chr 2   \n",
      "\n",
      "         gene_type transcript_accession        transcript_name  \\\n",
      "0   PROTEIN_CODING          NR_148667.2  transcript variant 16   \n",
      "1   PROTEIN_CODING       NM_001353949.2   transcript variant 6   \n",
      "2   PROTEIN_CODING       NM_001353958.2  transcript variant 13   \n",
      "3   PROTEIN_CODING       NM_001353950.2   transcript variant 7   \n",
      "4   PROTEIN_CODING       NM_001202435.3   transcript variant 4   \n",
      "5   PROTEIN_CODING       NM_001353955.2  transcript variant 11   \n",
      "6   PROTEIN_CODING       NM_001353957.2  transcript variant 12   \n",
      "7   PROTEIN_CODING       NM_001353951.2   transcript variant 8   \n",
      "8   PROTEIN_CODING       NM_001353948.2   transcript variant 5   \n",
      "9   PROTEIN_CODING       NM_001353960.2  transcript variant 14   \n",
      "10  PROTEIN_CODING       NM_001353954.2  transcript variant 10   \n",
      "11  PROTEIN_CODING       XM_047445392.1  transcript variant X1   \n",
      "12  PROTEIN_CODING       NM_001165964.3   transcript variant 3   \n",
      "13  PROTEIN_CODING       NM_001353952.2   transcript variant 9   \n",
      "14  PROTEIN_CODING       NM_001353961.2  transcript variant 15   \n",
      "15  PROTEIN_CODING          NM_006920.6   transcript variant 2   \n",
      "16  PROTEIN_CODING       NM_001165963.4   transcript variant 1   \n",
      "17  PROTEIN_CODING       XM_047445393.1  transcript variant X2   \n",
      "\n",
      "    transcript_length     transcript_cds_coords protein_accession  \\\n",
      "0               13051                       NaN               NaN   \n",
      "1               12765   NM_001353949.2:165-6161    NP_001340878.1   \n",
      "2               12806   NM_001353958.2:257-6202    NP_001340887.1   \n",
      "3               12857   NM_001353950.2:257-6253    NP_001340879.1   \n",
      "4               12890   NM_001202435.3:257-6286    NP_001189364.1   \n",
      "5               12897   NM_001353955.2:300-6293    NP_001340884.1   \n",
      "6               12849   NM_001353957.2:300-6245    NP_001340886.1   \n",
      "7               12900   NM_001353951.2:300-6296    NP_001340880.1   \n",
      "8               12933   NM_001353948.2:300-6329    NP_001340877.1   \n",
      "9               12938   NM_001353960.2:392-6334    NP_001340889.1   \n",
      "10              12989   NM_001353954.2:392-6385    NP_001340883.1   \n",
      "11              13022   XM_047445392.1:392-6418    XP_047301348.1   \n",
      "12              12941   NM_001165964.3:392-6337    NP_001159436.1   \n",
      "13              12992   NM_001353952.2:392-6388    NP_001340881.1   \n",
      "14              13008  NM_001353961.2:2817-6404    NP_001340890.1   \n",
      "15              13079      NM_006920.6:479-6475       NP_008851.3   \n",
      "16              11940   NM_001165963.4:479-6508    NP_001159435.1   \n",
      "17               4676   XM_047445393.1:392-4588    XP_047301349.1   \n",
      "\n",
      "   isoform_name  protein_length                                 protein_name  \n",
      "0           NaN             NaN                                          NaN  \n",
      "1     isoform 2          1998.0  sodium channel protein type 1 subunit alpha  \n",
      "2     isoform 3          1981.0  sodium channel protein type 1 subunit alpha  \n",
      "3     isoform 2          1998.0  sodium channel protein type 1 subunit alpha  \n",
      "4     isoform 1          2009.0  sodium channel protein type 1 subunit alpha  \n",
      "5     isoform 4          1997.0  sodium channel protein type 1 subunit alpha  \n",
      "6     isoform 3          1981.0  sodium channel protein type 1 subunit alpha  \n",
      "7     isoform 2          1998.0  sodium channel protein type 1 subunit alpha  \n",
      "8     isoform 1          2009.0  sodium channel protein type 1 subunit alpha  \n",
      "9     isoform 5          1980.0  sodium channel protein type 1 subunit alpha  \n",
      "10    isoform 4          1997.0  sodium channel protein type 1 subunit alpha  \n",
      "11   isoform X1          2008.0  sodium channel protein type 1 subunit alpha  \n",
      "12    isoform 3          1981.0  sodium channel protein type 1 subunit alpha  \n",
      "13    isoform 2          1998.0  sodium channel protein type 1 subunit alpha  \n",
      "14    isoform 6          1195.0  sodium channel protein type 1 subunit alpha  \n",
      "15    isoform 2          1998.0  sodium channel protein type 1 subunit alpha  \n",
      "16    isoform 1          2009.0  sodium channel protein type 1 subunit alpha  \n",
      "17   isoform X2          1398.0  sodium channel protein type 1 subunit alpha  \n"
     ]
    }
   ],
   "source": [
    "genes_df = pd.read_csv('data_table.tsv', sep='\\t')\n",
    "\n",
    "print(genes_df)"
   ]
  },
  {
   "cell_type": "code",
   "execution_count": 8,
   "id": "bfd3c656",
   "metadata": {
    "scrolled": true
   },
   "outputs": [
    {
     "name": "stdout",
     "output_type": "stream",
     "text": [
      "Collecting pysam\n",
      "  Downloading pysam-0.19.1-cp39-cp39-macosx_10_9_x86_64.whl (3.2 MB)\n",
      "\u001b[K     |████████████████████████████████| 3.2 MB 1.6 MB/s eta 0:00:01\n",
      "\u001b[?25hInstalling collected packages: pysam\n",
      "Successfully installed pysam-0.19.1\n",
      "Note: you may need to restart the kernel to use updated packages.\n"
     ]
    }
   ],
   "source": [
    "pip install pysam"
   ]
  },
  {
   "cell_type": "code",
   "execution_count": 9,
   "id": "021cd27b",
   "metadata": {},
   "outputs": [],
   "source": [
    "from pysam import FastaFile"
   ]
  },
  {
   "cell_type": "code",
   "execution_count": 11,
   "id": "36cbcd0f",
   "metadata": {},
   "outputs": [
    {
     "name": "stdout",
     "output_type": "stream",
     "text": [
      "<pysam.libcfaidx.FastaFile object at 0x7fa33ba8bc40>\n"
     ]
    }
   ],
   "source": [
    "fasta = \"gene1.fa\"\n",
    "\n",
    "sequences = FastaFile(fasta)\n",
    "\n",
    "print(sequences)"
   ]
  },
  {
   "cell_type": "code",
   "execution_count": 14,
   "id": "74c011b7",
   "metadata": {},
   "outputs": [
    {
     "name": "stdout",
     "output_type": "stream",
     "text": [
      "--TGTGACT-A\n",
      "  || |  | |\n",
      "CATG-G--TCA\n",
      "  Score=5\n",
      "\n",
      "--TGTGA-CTA\n",
      "  || |  | |\n",
      "CATG-G-TC-A\n",
      "  Score=5\n",
      "\n",
      "--TGTGACTA\n",
      "  || |.| |\n",
      "CATG-GTC-A\n",
      "  Score=5\n",
      "\n",
      "--TG-TGACTA\n",
      "  || |  | |\n",
      "CATGGT--C-A\n",
      "  Score=5\n",
      "\n",
      "--T-GTGACTA\n",
      "  | ||  | |\n",
      "CATGGT--C-A\n",
      "  Score=5\n",
      "\n"
     ]
    }
   ],
   "source": [
    "seq1 = Seq(\"TGTGACTA\")\n",
    "seq2 = Seq(\"CATGGTCA\")\n",
    "\n",
    "alignments = pairwise2.align.globalxx(seq1, seq2)\n",
    "\n",
    "for alignment in alignments:\n",
    "    print(format_alignment(*alignment))"
   ]
  },
  {
   "cell_type": "markdown",
   "id": "a35bd919",
   "metadata": {},
   "source": [
    "Hierarchical clustering"
   ]
  },
  {
   "cell_type": "code",
   "execution_count": 15,
   "id": "7c86a8db",
   "metadata": {},
   "outputs": [],
   "source": [
    "import matplotlib.pyplot as plt"
   ]
  },
  {
   "cell_type": "code",
   "execution_count": 17,
   "id": "abff9cc4",
   "metadata": {},
   "outputs": [
    {
     "ename": "NameError",
     "evalue": "name 'X' is not defined",
     "output_type": "error",
     "traceback": [
      "\u001b[0;31m---------------------------------------------------------------------------\u001b[0m",
      "\u001b[0;31mNameError\u001b[0m                                 Traceback (most recent call last)",
      "\u001b[0;32m/var/folders/rf/y5v215s10c93zgnvtw2189040000gn/T/ipykernel_2329/4192819540.py\u001b[0m in \u001b[0;36m<module>\u001b[0;34m\u001b[0m\n\u001b[1;32m      2\u001b[0m \u001b[0mplt\u001b[0m\u001b[0;34m.\u001b[0m\u001b[0mfigure\u001b[0m\u001b[0;34m(\u001b[0m\u001b[0mfigsize\u001b[0m\u001b[0;34m=\u001b[0m\u001b[0;34m(\u001b[0m\u001b[0;36m10\u001b[0m\u001b[0;34m,\u001b[0m \u001b[0;36m7\u001b[0m\u001b[0;34m)\u001b[0m\u001b[0;34m)\u001b[0m\u001b[0;34m\u001b[0m\u001b[0;34m\u001b[0m\u001b[0m\n\u001b[1;32m      3\u001b[0m \u001b[0mplt\u001b[0m\u001b[0;34m.\u001b[0m\u001b[0msubplots_adjust\u001b[0m\u001b[0;34m(\u001b[0m\u001b[0mbottom\u001b[0m\u001b[0;34m=\u001b[0m\u001b[0;36m0.1\u001b[0m\u001b[0;34m)\u001b[0m\u001b[0;34m\u001b[0m\u001b[0;34m\u001b[0m\u001b[0m\n\u001b[0;32m----> 4\u001b[0;31m \u001b[0mplt\u001b[0m\u001b[0;34m.\u001b[0m\u001b[0mscatter\u001b[0m\u001b[0;34m(\u001b[0m\u001b[0mX\u001b[0m\u001b[0;34m[\u001b[0m\u001b[0;34m:\u001b[0m\u001b[0;34m,\u001b[0m\u001b[0;36m0\u001b[0m\u001b[0;34m]\u001b[0m\u001b[0;34m,\u001b[0m\u001b[0mX\u001b[0m\u001b[0;34m[\u001b[0m\u001b[0;34m:\u001b[0m\u001b[0;34m,\u001b[0m\u001b[0;36m1\u001b[0m\u001b[0;34m]\u001b[0m\u001b[0;34m,\u001b[0m \u001b[0mlabel\u001b[0m\u001b[0;34m=\u001b[0m\u001b[0;34m'True Position'\u001b[0m\u001b[0;34m)\u001b[0m\u001b[0;34m\u001b[0m\u001b[0;34m\u001b[0m\u001b[0m\n\u001b[0m\u001b[1;32m      5\u001b[0m \u001b[0;34m\u001b[0m\u001b[0m\n\u001b[1;32m      6\u001b[0m \u001b[0;32mfor\u001b[0m \u001b[0mlabel\u001b[0m\u001b[0;34m,\u001b[0m \u001b[0mx\u001b[0m\u001b[0;34m,\u001b[0m \u001b[0my\u001b[0m \u001b[0;32min\u001b[0m \u001b[0mzip\u001b[0m\u001b[0;34m(\u001b[0m\u001b[0mlabels\u001b[0m\u001b[0;34m,\u001b[0m \u001b[0mX\u001b[0m\u001b[0;34m[\u001b[0m\u001b[0;34m:\u001b[0m\u001b[0;34m,\u001b[0m \u001b[0;36m0\u001b[0m\u001b[0;34m]\u001b[0m\u001b[0;34m,\u001b[0m \u001b[0mX\u001b[0m\u001b[0;34m[\u001b[0m\u001b[0;34m:\u001b[0m\u001b[0;34m,\u001b[0m \u001b[0;36m1\u001b[0m\u001b[0;34m]\u001b[0m\u001b[0;34m)\u001b[0m\u001b[0;34m:\u001b[0m\u001b[0;34m\u001b[0m\u001b[0;34m\u001b[0m\u001b[0m\n",
      "\u001b[0;31mNameError\u001b[0m: name 'X' is not defined"
     ]
    },
    {
     "data": {
      "text/plain": [
       "<Figure size 720x504 with 0 Axes>"
      ]
     },
     "metadata": {},
     "output_type": "display_data"
    }
   ],
   "source": [
    "labels = range(1, 11)\n",
    "plt.figure(figsize=(10, 7))\n",
    "plt.subplots_adjust(bottom=0.1)\n",
    "plt.scatter(X[:,0],X[:,1], label='True Position')\n",
    "\n",
    "for label, x, y in zip(labels, X[:, 0], X[:, 1]):\n",
    "    plt.annotate(\n",
    "        label,\n",
    "        xy=(x, y), xytext=(-3, 3),\n",
    "        textcoords='offset points', ha='right', va='bottom')\n",
    "plt.show()"
   ]
  },
  {
   "cell_type": "code",
   "execution_count": 18,
   "id": "21a61c1d",
   "metadata": {},
   "outputs": [
    {
     "ename": "NameError",
     "evalue": "name 'np' is not defined",
     "output_type": "error",
     "traceback": [
      "\u001b[0;31m---------------------------------------------------------------------------\u001b[0m",
      "\u001b[0;31mNameError\u001b[0m                                 Traceback (most recent call last)",
      "\u001b[0;32m/var/folders/rf/y5v215s10c93zgnvtw2189040000gn/T/ipykernel_2329/2869036954.py\u001b[0m in \u001b[0;36m<module>\u001b[0;34m\u001b[0m\n\u001b[0;32m----> 1\u001b[0;31m X = np.array([[5,3],\n\u001b[0m\u001b[1;32m      2\u001b[0m     \u001b[0;34m[\u001b[0m\u001b[0;36m10\u001b[0m\u001b[0;34m,\u001b[0m\u001b[0;36m15\u001b[0m\u001b[0;34m]\u001b[0m\u001b[0;34m,\u001b[0m\u001b[0;34m\u001b[0m\u001b[0;34m\u001b[0m\u001b[0m\n\u001b[1;32m      3\u001b[0m     \u001b[0;34m[\u001b[0m\u001b[0;36m15\u001b[0m\u001b[0;34m,\u001b[0m\u001b[0;36m12\u001b[0m\u001b[0;34m]\u001b[0m\u001b[0;34m,\u001b[0m\u001b[0;34m\u001b[0m\u001b[0;34m\u001b[0m\u001b[0m\n\u001b[1;32m      4\u001b[0m     \u001b[0;34m[\u001b[0m\u001b[0;36m24\u001b[0m\u001b[0;34m,\u001b[0m\u001b[0;36m10\u001b[0m\u001b[0;34m]\u001b[0m\u001b[0;34m,\u001b[0m\u001b[0;34m\u001b[0m\u001b[0;34m\u001b[0m\u001b[0m\n\u001b[1;32m      5\u001b[0m     \u001b[0;34m[\u001b[0m\u001b[0;36m30\u001b[0m\u001b[0;34m,\u001b[0m\u001b[0;36m30\u001b[0m\u001b[0;34m]\u001b[0m\u001b[0;34m,\u001b[0m\u001b[0;34m\u001b[0m\u001b[0;34m\u001b[0m\u001b[0m\n",
      "\u001b[0;31mNameError\u001b[0m: name 'np' is not defined"
     ]
    }
   ],
   "source": [
    "X = np.array([[5,3],\n",
    "    [10,15],\n",
    "    [15,12],\n",
    "    [24,10],\n",
    "    [30,30],\n",
    "    [85,70],\n",
    "    [71,80],\n",
    "    [60,78],\n",
    "    [70,55],\n",
    "    [80,91],])"
   ]
  },
  {
   "cell_type": "code",
   "execution_count": 19,
   "id": "2db5d5fe",
   "metadata": {},
   "outputs": [],
   "source": [
    "from scipy.cluster.hierarchy import dendrogram, linkage\n",
    "from matplotlib import pyplot as plt"
   ]
  },
  {
   "cell_type": "code",
   "execution_count": 20,
   "id": "cedabc9e",
   "metadata": {},
   "outputs": [
    {
     "ename": "NameError",
     "evalue": "name 'X' is not defined",
     "output_type": "error",
     "traceback": [
      "\u001b[0;31m---------------------------------------------------------------------------\u001b[0m",
      "\u001b[0;31mNameError\u001b[0m                                 Traceback (most recent call last)",
      "\u001b[0;32m/var/folders/rf/y5v215s10c93zgnvtw2189040000gn/T/ipykernel_2329/293007766.py\u001b[0m in \u001b[0;36m<module>\u001b[0;34m\u001b[0m\n\u001b[0;32m----> 1\u001b[0;31m \u001b[0mlinked\u001b[0m \u001b[0;34m=\u001b[0m \u001b[0mlinkage\u001b[0m\u001b[0;34m(\u001b[0m\u001b[0mX\u001b[0m\u001b[0;34m,\u001b[0m \u001b[0;34m'single'\u001b[0m\u001b[0;34m)\u001b[0m\u001b[0;34m\u001b[0m\u001b[0;34m\u001b[0m\u001b[0m\n\u001b[0m\u001b[1;32m      2\u001b[0m \u001b[0;34m\u001b[0m\u001b[0m\n\u001b[1;32m      3\u001b[0m \u001b[0mlabelList\u001b[0m \u001b[0;34m=\u001b[0m \u001b[0mrange\u001b[0m\u001b[0;34m(\u001b[0m\u001b[0;36m1\u001b[0m\u001b[0;34m,\u001b[0m \u001b[0;36m11\u001b[0m\u001b[0;34m)\u001b[0m\u001b[0;34m\u001b[0m\u001b[0;34m\u001b[0m\u001b[0m\n\u001b[1;32m      4\u001b[0m \u001b[0;34m\u001b[0m\u001b[0m\n\u001b[1;32m      5\u001b[0m \u001b[0mplt\u001b[0m\u001b[0;34m.\u001b[0m\u001b[0mfigure\u001b[0m\u001b[0;34m(\u001b[0m\u001b[0mfigsize\u001b[0m\u001b[0;34m=\u001b[0m\u001b[0;34m(\u001b[0m\u001b[0;36m10\u001b[0m\u001b[0;34m,\u001b[0m \u001b[0;36m7\u001b[0m\u001b[0;34m)\u001b[0m\u001b[0;34m)\u001b[0m\u001b[0;34m\u001b[0m\u001b[0;34m\u001b[0m\u001b[0m\n",
      "\u001b[0;31mNameError\u001b[0m: name 'X' is not defined"
     ]
    }
   ],
   "source": [
    "linked = linkage(X, 'single')\n",
    "\n",
    "labelList = range(1, 11)\n",
    "\n",
    "plt.figure(figsize=(10, 7))\n",
    "dendrogram(linked,\n",
    "            orientation='top',\n",
    "            labels=labelList,\n",
    "            distance_sort='descending',\n",
    "            show_leaf_counts=True)\n",
    "plt.show()"
   ]
  },
  {
   "cell_type": "markdown",
   "id": "5e49905b",
   "metadata": {},
   "source": [
    "Protein Expression Analysis"
   ]
  },
  {
   "cell_type": "code",
   "execution_count": 1,
   "id": "bf8fa62d",
   "metadata": {},
   "outputs": [],
   "source": [
    "import numpy\n",
    " \n",
    "def get_conditions_and_genes(work_counts): \n",
    "    conditions = work_counts.keys()\n",
    "    conditions.sort()\n",
    "    all_genes = []\n",
    "    for c in conditions:\n",
    "        all_genes.extend(work_counts[c].keys())\n",
    "    all_genes = list(set(all_genes))\n",
    "    all_genes.sort()\n",
    "    sizes = [work_counts[c][\"Total\"] for c in conditions]\n",
    "    all_genes.remove(\"Total\")\n",
    "    return conditions, all_genes, sizes\n",
    "     \n",
    "def edger_matrices(work_counts):\n",
    "    conditions, all_genes, sizes = get_conditions_and_genes(work_counts)\n",
    "    assert len(sizes) == 2\n",
    "    groups = [1, 2]\n",
    "    data = []\n",
    "    final_genes = []\n",
    "    for g in all_genes:\n",
    "        cur_row = [int(work_counts[c][g]) for c in conditions]\n",
    "        if sum(cur_row) > 0:\n",
    "            data.append(cur_row)\n",
    "            final_genes.append(g)\n",
    "    return (numpy.array(data), numpy.array(groups), numpy.array(sizes),\n",
    "            conditions, final_genes)"
   ]
  },
  {
   "cell_type": "markdown",
   "id": "aa982c97",
   "metadata": {},
   "source": [
    "PCA Plot"
   ]
  },
  {
   "cell_type": "code",
   "execution_count": 4,
   "id": "ae6b8a45",
   "metadata": {},
   "outputs": [
    {
     "name": "stdout",
     "output_type": "stream",
     "text": [
      "Collecting package metadata (current_repodata.json): done\n",
      "Solving environment: done\n",
      "\n",
      "## Package Plan ##\n",
      "\n",
      "  environment location: /Users/noahguzman/opt/anaconda3\n",
      "\n",
      "  added / updated specs:\n",
      "    - plotly_express\n",
      "\n",
      "\n",
      "The following packages will be downloaded:\n",
      "\n",
      "    package                    |            build\n",
      "    ---------------------------|-----------------\n",
      "    conda-4.13.0               |   py39hecd8cb5_0         906 KB\n",
      "    plotly-5.8.0               |             py_0         6.9 MB  plotly\n",
      "    plotly_express-0.4.1       |             py_0           5 KB  plotly\n",
      "    tenacity-8.0.1             |   py39hecd8cb5_0          33 KB\n",
      "    ------------------------------------------------------------\n",
      "                                           Total:         7.9 MB\n",
      "\n",
      "The following NEW packages will be INSTALLED:\n",
      "\n",
      "  plotly             plotly/noarch::plotly-5.8.0-py_0\n",
      "  plotly_express     plotly/noarch::plotly_express-0.4.1-py_0\n",
      "  tenacity           pkgs/main/osx-64::tenacity-8.0.1-py39hecd8cb5_0\n",
      "\n",
      "The following packages will be UPDATED:\n",
      "\n",
      "  conda              conda-forge::conda-4.12.0-py39h6e9494~ --> pkgs/main::conda-4.13.0-py39hecd8cb5_0\n",
      "\n",
      "\n",
      "\n",
      "Downloading and Extracting Packages\n",
      "plotly_express-0.4.1 | 5 KB      | ##################################### | 100% \n",
      "plotly-5.8.0         | 6.9 MB    | ##################################### | 100% \n",
      "tenacity-8.0.1       | 33 KB     | ##################################### | 100% \n",
      "conda-4.13.0         | 906 KB    | ##################################### | 100% \n",
      "Preparing transaction: done\n",
      "Verifying transaction: done\n",
      "Executing transaction: done\n",
      "\n",
      "Note: you may need to restart the kernel to use updated packages.\n"
     ]
    }
   ],
   "source": [
    "conda install -c plotly plotly_express"
   ]
  },
  {
   "cell_type": "code",
   "execution_count": 2,
   "id": "eb4b9c7a",
   "metadata": {},
   "outputs": [
    {
     "ename": "ModuleNotFoundError",
     "evalue": "No module named 'plotly'",
     "output_type": "error",
     "traceback": [
      "\u001b[0;31m---------------------------------------------------------------------------\u001b[0m",
      "\u001b[0;31mModuleNotFoundError\u001b[0m                       Traceback (most recent call last)",
      "\u001b[0;32m/var/folders/rf/y5v215s10c93zgnvtw2189040000gn/T/ipykernel_1032/1581788447.py\u001b[0m in \u001b[0;36m<module>\u001b[0;34m\u001b[0m\n\u001b[0;32m----> 1\u001b[0;31m \u001b[0;32mimport\u001b[0m \u001b[0mplotly\u001b[0m\u001b[0;34m.\u001b[0m\u001b[0mexpress\u001b[0m \u001b[0;32mas\u001b[0m \u001b[0mpx\u001b[0m\u001b[0;34m\u001b[0m\u001b[0;34m\u001b[0m\u001b[0m\n\u001b[0m\u001b[1;32m      2\u001b[0m \u001b[0;32mfrom\u001b[0m \u001b[0msklearn\u001b[0m\u001b[0;34m.\u001b[0m\u001b[0mdecomposition\u001b[0m \u001b[0;32mimport\u001b[0m \u001b[0mPCA\u001b[0m\u001b[0;34m\u001b[0m\u001b[0;34m\u001b[0m\u001b[0m\n",
      "\u001b[0;31mModuleNotFoundError\u001b[0m: No module named 'plotly'"
     ]
    }
   ],
   "source": [
    "import plotly.express as px\n",
    "from sklearn.decomposition import PCA"
   ]
  },
  {
   "cell_type": "code",
   "execution_count": 3,
   "id": "5440dc7a",
   "metadata": {},
   "outputs": [
    {
     "ename": "NameError",
     "evalue": "name 'px' is not defined",
     "output_type": "error",
     "traceback": [
      "\u001b[0;31m---------------------------------------------------------------------------\u001b[0m",
      "\u001b[0;31mNameError\u001b[0m                                 Traceback (most recent call last)",
      "\u001b[0;32m/var/folders/rf/y5v215s10c93zgnvtw2189040000gn/T/ipykernel_1032/3704032505.py\u001b[0m in \u001b[0;36m<module>\u001b[0;34m\u001b[0m\n\u001b[0;32m----> 1\u001b[0;31m \u001b[0mdf\u001b[0m \u001b[0;34m=\u001b[0m \u001b[0mpx\u001b[0m\u001b[0;34m.\u001b[0m\u001b[0mdata\u001b[0m\u001b[0;34m.\u001b[0m\u001b[0miris\u001b[0m\u001b[0;34m(\u001b[0m\u001b[0;34m)\u001b[0m\u001b[0;34m\u001b[0m\u001b[0;34m\u001b[0m\u001b[0m\n\u001b[0m\u001b[1;32m      2\u001b[0m \u001b[0mfeatures\u001b[0m \u001b[0;34m=\u001b[0m \u001b[0;34m[\u001b[0m\u001b[0;34m\"sepal_width\"\u001b[0m\u001b[0;34m,\u001b[0m \u001b[0;34m\"sepal_length\"\u001b[0m\u001b[0;34m,\u001b[0m \u001b[0;34m\"petal_width\"\u001b[0m\u001b[0;34m,\u001b[0m \u001b[0;34m\"petal_length\"\u001b[0m\u001b[0;34m]\u001b[0m\u001b[0;34m\u001b[0m\u001b[0;34m\u001b[0m\u001b[0m\n\u001b[1;32m      3\u001b[0m \u001b[0;34m\u001b[0m\u001b[0m\n\u001b[1;32m      4\u001b[0m \u001b[0mpca\u001b[0m \u001b[0;34m=\u001b[0m \u001b[0mPCA\u001b[0m\u001b[0;34m(\u001b[0m\u001b[0;34m)\u001b[0m\u001b[0;34m\u001b[0m\u001b[0;34m\u001b[0m\u001b[0m\n\u001b[1;32m      5\u001b[0m \u001b[0mcomponents\u001b[0m \u001b[0;34m=\u001b[0m \u001b[0mpca\u001b[0m\u001b[0;34m.\u001b[0m\u001b[0mfit_transform\u001b[0m\u001b[0;34m(\u001b[0m\u001b[0mdf\u001b[0m\u001b[0;34m[\u001b[0m\u001b[0mfeatures\u001b[0m\u001b[0;34m]\u001b[0m\u001b[0;34m)\u001b[0m\u001b[0;34m\u001b[0m\u001b[0;34m\u001b[0m\u001b[0m\n",
      "\u001b[0;31mNameError\u001b[0m: name 'px' is not defined"
     ]
    }
   ],
   "source": [
    "df = px.data.iris()\n",
    "features = [\"sepal_width\", \"sepal_length\", \"petal_width\", \"petal_length\"]\n",
    "\n",
    "pca = PCA()\n",
    "components = pca.fit_transform(df[features])\n",
    "labels = {\n",
    "    str(i): f\"PC {i+1} ({var:.1f}%)\"\n",
    "    for i, var in enumerate(pca.explained_variance_ratio_ * 100)\n",
    "}\n",
    "\n",
    "fig = px.scatter_matrix(\n",
    "    components,\n",
    "    labels=labels,\n",
    "    dimensions=range(4),\n",
    "    color=df[\"species\"]\n",
    ")\n",
    "fig.update_traces(diagonal_visible=False)\n",
    "fig.show()"
   ]
  },
  {
   "cell_type": "code",
   "execution_count": null,
   "id": "619a2aa9",
   "metadata": {},
   "outputs": [],
   "source": []
  }
 ],
 "metadata": {
  "kernelspec": {
   "display_name": "Python 3 (ipykernel)",
   "language": "python",
   "name": "python3"
  },
  "language_info": {
   "codemirror_mode": {
    "name": "ipython",
    "version": 3
   },
   "file_extension": ".py",
   "mimetype": "text/x-python",
   "name": "python",
   "nbconvert_exporter": "python",
   "pygments_lexer": "ipython3",
   "version": "3.9.7"
  }
 },
 "nbformat": 4,
 "nbformat_minor": 5
}
